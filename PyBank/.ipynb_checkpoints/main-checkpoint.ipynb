{
 "cells": [
  {
   "cell_type": "code",
   "execution_count": null,
   "metadata": {},
   "outputs": [],
   "source": [
    "\"\"\"\n",
    "In this activity, you are tasked with creating a Python script for analyzing the financial records of your company. \n",
    "You will be provided with a financial dataset in this file: budget_data.csv. \n",
    "This dataset is composed of two columns, Date and Profit/Losses. (Thankfully, your company has rather lax standards for accounting, so the records are simple.)\n",
    "\n",
    "Your task is to create a Python script that analyzes the records to calculate each of the following:\n",
    "    - The total number of months included in the dataset.\n",
    "    - The net total amount of Profit/Losses over the entire period.\n",
    "    - The average of the changes in Profit/Losses over the entire period.\n",
    "    - The greatest increase in profits (date and amount) over the entire period.\n",
    "    - The greatest decrease in losses (date and amount) over the entire period.\n",
    "\n",
    "Your resulting analysis should look similar to the following:\n",
    "    Financial Analysis\n",
    "    ----------------------------\n",
    "    Total Months: 86\n",
    "    Total: $38382578\n",
    "    Average  Change: $-2315.12\n",
    "    Greatest Increase in Profits: Feb-2012 ($1926159)\n",
    "    Greatest Decrease in Profits: Sep-2013 ($-2196167)\n",
    "    Your final script should print the analysis to the terminal and export a text file with the results.\n",
    "\"\"\""
   ]
  },
  {
   "cell_type": "code",
   "execution_count": 1,
   "metadata": {},
   "outputs": [],
   "source": [
    "# Import the pathlib and csv library\n",
    "from pathlib import Path\n",
    "import csv"
   ]
  },
  {
   "cell_type": "code",
   "execution_count": 2,
   "metadata": {},
   "outputs": [
    {
     "name": "stdout",
     "output_type": "stream",
     "text": [
      "Current Working Directory: C:\\Users\\big_j\\OneDrive\\Columbia Engineering FinTech Boot Camp\\My GitHub Repos\\python-homework\\PyBank\n"
     ]
    }
   ],
   "source": [
    "print(f\"Current Working Directory: {Path.cwd()}\")"
   ]
  },
  {
   "cell_type": "raw",
   "metadata": {},
   "source": [
    "budget_file_path = Path(\"C:\\\\Users\\\\big_j\\\\OneDrive\\\\Columbia Engineering FinTech Boot Camp\\\\My GitHub Repos\\python-homework\\\\PyBank\\\\02-Homework_02-Python_Instructions_PyBank_Resources_budget_data.csv\")"
   ]
  },
  {
   "cell_type": "code",
   "execution_count": 6,
   "metadata": {},
   "outputs": [],
   "source": [
    "budget_file_path = Path('02-Homework_02-Python_Instructions_PyBank_Resources_budget_data.csv')"
   ]
  },
  {
   "cell_type": "code",
   "execution_count": 11,
   "metadata": {},
   "outputs": [
    {
     "name": "stdout",
     "output_type": "stream",
     "text": [
      "<class '_io.TextIOWrapper'>\n",
      "<class '_csv.reader'>\n",
      "['Date', 'Profit/Losses'] <---- HEADER\n",
      "line 1: ['Jan-10', '867884']\n",
      "line 2: ['Feb-10', '984655']\n",
      "line 3: ['Mar-10', '322013']\n",
      "line 4: ['Apr-10', '-69417']\n",
      "line 5: ['May-10', '310503']\n",
      "line 6: ['Jun-10', '522857']\n",
      "line 7: ['Jul-10', '1033096']\n",
      "line 8: ['Aug-10', '604885']\n",
      "line 9: ['Sep-10', '-216386']\n",
      "line 10: ['Oct-10', '477532']\n",
      "line 11: ['Nov-10', '893810']\n",
      "line 12: ['Dec-10', '-80353']\n",
      "line 13: ['Jan-11', '779806']\n",
      "line 14: ['Feb-11', '-335203']\n",
      "line 15: ['Mar-11', '697845']\n",
      "line 16: ['Apr-11', '793163']\n",
      "line 17: ['May-11', '485070']\n",
      "line 18: ['Jun-11', '584122']\n",
      "line 19: ['Jul-11', '62729']\n",
      "line 20: ['Aug-11', '668179']\n",
      "line 21: ['Sep-11', '899906']\n",
      "line 22: ['Oct-11', '834719']\n",
      "line 23: ['Nov-11', '132003']\n",
      "line 24: ['Dec-11', '309978']\n",
      "line 25: ['Jan-12', '-755566']\n",
      "line 26: ['Feb-12', '1170593']\n",
      "line 27: ['Mar-12', '252788']\n",
      "line 28: ['Apr-12', '1151518']\n",
      "line 29: ['May-12', '817256']\n",
      "line 30: ['Jun-12', '570757']\n",
      "line 31: ['Jul-12', '506702']\n",
      "line 32: ['Aug-12', '-1022534']\n",
      "line 33: ['Sep-12', '475062']\n",
      "line 34: ['Oct-12', '779976']\n",
      "line 35: ['Nov-12', '144175']\n",
      "line 36: ['Dec-12', '542494']\n",
      "line 37: ['Jan-13', '359333']\n",
      "line 38: ['Feb-13', '321469']\n",
      "line 39: ['Mar-13', '67780']\n",
      "line 40: ['Apr-13', '471435']\n",
      "line 41: ['May-13', '565603']\n",
      "line 42: ['Jun-13', '872480']\n",
      "line 43: ['Jul-13', '789480']\n",
      "line 44: ['Aug-13', '999942']\n",
      "line 45: ['Sep-13', '-1196225']\n",
      "line 46: ['Oct-13', '268997']\n",
      "line 47: ['Nov-13', '-687986']\n",
      "line 48: ['Dec-13', '1150461']\n",
      "line 49: ['Jan-14', '682458']\n",
      "line 50: ['Feb-14', '617856']\n",
      "line 51: ['Mar-14', '824098']\n",
      "line 52: ['Apr-14', '581943']\n",
      "line 53: ['May-14', '132864']\n",
      "line 54: ['Jun-14', '448062']\n",
      "line 55: ['Jul-14', '689161']\n",
      "line 56: ['Aug-14', '800701']\n",
      "line 57: ['Sep-14', '1166643']\n",
      "line 58: ['Oct-14', '947333']\n",
      "line 59: ['Nov-14', '578668']\n",
      "line 60: ['Dec-14', '988505']\n",
      "line 61: ['Jan-15', '1139715']\n",
      "line 62: ['Feb-15', '1029471']\n",
      "line 63: ['Mar-15', '687533']\n",
      "line 64: ['Apr-15', '-524626']\n",
      "line 65: ['May-15', '158620']\n",
      "line 66: ['Jun-15', '87795']\n",
      "line 67: ['Jul-15', '423389']\n",
      "line 68: ['Aug-15', '840723']\n",
      "line 69: ['Sep-15', '568529']\n",
      "line 70: ['Oct-15', '332067']\n",
      "line 71: ['Nov-15', '989499']\n",
      "line 72: ['Dec-15', '778237']\n",
      "line 73: ['Jan-16', '650000']\n",
      "line 74: ['Feb-16', '-1100387']\n",
      "line 75: ['Mar-16', '-174946']\n",
      "line 76: ['Apr-16', '757143']\n",
      "line 77: ['May-16', '445709']\n",
      "line 78: ['Jun-16', '712961']\n",
      "line 79: ['Jul-16', '-1163797']\n",
      "line 80: ['Aug-16', '569899']\n",
      "line 81: ['Sep-16', '768450']\n",
      "line 82: ['Oct-16', '102685']\n",
      "line 83: ['Nov-16', '795914']\n",
      "line 84: ['Dec-16', '60988']\n",
      "line 85: ['Jan-17', '138230']\n",
      "line 86: ['Feb-17', '671099']\n"
     ]
    }
   ],
   "source": [
    "with open(budget_file_path, 'r') as csvfile:\n",
    "\n",
    "    # Print the datatype of the file object\n",
    "    print(type(csvfile))\n",
    "\n",
    "    # Pass in the csv file to the csv.reader() function\n",
    "    # (with ',' as the delmiter/separator) and return the csvreader object\n",
    "    csvreader = csv.reader(csvfile, delimiter=',')\n",
    "    # Print the datatype of the csvreader\n",
    "    print(type(csvreader))\n",
    "\n",
    "    # Go to the next row from the start of the file\n",
    "    # (which is often the first row/header) and iterate line_num by 1\n",
    "    header = next(csvreader)\n",
    "    line_num = 0\n",
    "    line_num += 1\n",
    "    # Print the header\n",
    "    print(f\"{header} <---- HEADER\")\n",
    "\n",
    "    line_num = 1\n",
    "    for line in csvreader:\n",
    "        print(f\"line {line_num}: {line}\")\n",
    "        line_num += 1"
   ]
  },
  {
   "cell_type": "code",
   "execution_count": null,
   "metadata": {},
   "outputs": [],
   "source": []
  },
  {
   "cell_type": "code",
   "execution_count": null,
   "metadata": {},
   "outputs": [],
   "source": []
  },
  {
   "cell_type": "code",
   "execution_count": null,
   "metadata": {},
   "outputs": [],
   "source": []
  }
 ],
 "metadata": {
  "kernelspec": {
   "display_name": "Python 3",
   "language": "python",
   "name": "python3"
  },
  "language_info": {
   "codemirror_mode": {
    "name": "ipython",
    "version": 3
   },
   "file_extension": ".py",
   "mimetype": "text/x-python",
   "name": "python",
   "nbconvert_exporter": "python",
   "pygments_lexer": "ipython3",
   "version": "3.8.5"
  }
 },
 "nbformat": 4,
 "nbformat_minor": 4
}
